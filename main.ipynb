{
 "cells": [
  {
   "cell_type": "code",
   "execution_count": 9,
   "id": "8f552680-a15f-47db-8f37-fe8982e10dee",
   "metadata": {},
   "outputs": [],
   "source": [
    "import os\n",
    "import cv2\n",
    "import time\n",
    "import numpy as np\n",
    "\n",
    "import torch\n",
    "import torch.nn as nn\n",
    "import torch.nn.functional as F\n",
    "\n",
    "from torch.utils.data import DataLoader, Dataset\n",
    "from torch.utils.data import RandomSampler\n",
    "\n",
    "import torchvision.transforms as T\n",
    "import torchvision.models as models\n",
    "from torchvision.utils import make_grid\n",
    "from torchvision.datasets import ImageFolder\n",
    "\n",
    "from matplotlib import pyplot as plt\n",
    "\n",
    "DIR_TRAIN = \"train/\"\n",
    "DIR_VALID = \"valid/\"\n",
    "DIR_TEST = \"test/\""
   ]
  },
  {
   "cell_type": "markdown",
   "id": "4c02df13-deb2-4744-afab-804c4c4b3434",
   "metadata": {},
   "source": [
    "# Preprocessing"
   ]
  },
  {
   "cell_type": "code",
   "execution_count": 22,
   "id": "5d292b96-d42a-43dd-bffc-9bbd4586dc74",
   "metadata": {},
   "outputs": [
    {
     "name": "stdout",
     "output_type": "stream",
     "text": [
      "Total Classes:  400\n"
     ]
    }
   ],
   "source": [
    "classes = os.listdir(DIR_TRAIN)\n",
    "print(\"Total Classes: \",len(classes))"
   ]
  },
  {
   "cell_type": "code",
   "execution_count": 23,
   "id": "0029ac7d-ec04-4ac8-b638-5db362434a9c",
   "metadata": {},
   "outputs": [],
   "source": [
    "train_imgs = []\n",
    "valid_imgs = []\n",
    "test_imgs = []\n",
    "\n",
    "for _class in classes:\n",
    "    \n",
    "    for img in os.listdir(DIR_TRAIN + _class):\n",
    "        train_imgs.append(DIR_TRAIN + _class + \"/\" + img)\n",
    "    \n",
    "    for img in os.listdir(DIR_VALID + _class):\n",
    "        valid_imgs.append(DIR_VALID + _class + \"/\" + img)\n",
    "        \n",
    "    for img in os.listdir(DIR_TEST + _class):\n",
    "        test_imgs.append(DIR_TEST + _class + \"/\" + img)\n",
    "\n",
    "class_to_int = {classes[i] : i for i in range(len(classes))}"
   ]
  },
  {
   "cell_type": "code",
   "execution_count": 27,
   "id": "db9ebcb8-2f17-4c87-b1b3-36575aec49cc",
   "metadata": {},
   "outputs": [],
   "source": [
    "def get_transform():\n",
    "    return T.Compose([T.ToTensor()])\n",
    "\n",
    "class BirdDataset(Dataset):\n",
    "    \n",
    "    def __init__(self, imgs_list, class_to_int, transforms = None):\n",
    "        \n",
    "        super().__init__()\n",
    "        self.imgs_list = imgs_list\n",
    "        self.class_to_int = class_to_int\n",
    "        self.transforms = transforms\n",
    "        \n",
    "        \n",
    "    def __getitem__(self, index):\n",
    "    \n",
    "        image_path = self.imgs_list[index]\n",
    "        \n",
    "        #Reading image\n",
    "        image = cv2.imread(image_path, cv2.IMREAD_COLOR)\n",
    "        image = cv2.cvtColor(image, cv2.COLOR_BGR2RGB).astype(np.float32)\n",
    "        image /= 255.0\n",
    "        \n",
    "        #Retriving class label\n",
    "        label = image_path.split(\"/\")[-2]\n",
    "        label = self.class_to_int[label]\n",
    "        \n",
    "        #Applying transforms on image\n",
    "        if self.transforms:\n",
    "            image = self.transforms(image)\n",
    "        \n",
    "        return image, label\n",
    "        \n",
    "        \n",
    "    def __len__(self):\n",
    "        return len(self.imgs_list)"
   ]
  },
  {
   "cell_type": "code",
   "execution_count": 29,
   "id": "6d36947f-0688-4f62-8b8d-688c2638b003",
   "metadata": {},
   "outputs": [],
   "source": [
    "train_dataset = BirdDataset(train_imgs, class_to_int, get_transform())\n",
    "valid_dataset = BirdDataset(valid_imgs, class_to_int, get_transform())\n",
    "test_dataset = BirdDataset(test_imgs, class_to_int, get_transform())"
   ]
  },
  {
   "cell_type": "code",
   "execution_count": 31,
   "id": "b169fb29-a169-4490-bd5e-5507dacc615d",
   "metadata": {},
   "outputs": [],
   "source": [
    "train_random_sampler = RandomSampler(train_dataset)\n",
    "valid_random_sampler = RandomSampler(valid_dataset)\n",
    "test_random_sampler = RandomSampler(test_dataset)"
   ]
  },
  {
   "cell_type": "code",
   "execution_count": 35,
   "id": "733f0e37-db27-4be1-8670-9f60a3cdb4c6",
   "metadata": {},
   "outputs": [],
   "source": [
    "train_data_loader = DataLoader(\n",
    "    dataset = train_dataset,\n",
    "    batch_size = 16,\n",
    "    sampler = train_random_sampler,\n",
    "    num_workers = 4\n",
    ")\n",
    "\n",
    "valid_data_loader = DataLoader(\n",
    "    dataset = train_dataset,\n",
    "    batch_size = 16, \n",
    "    sampler = valid_random_sampler,\n",
    "    num_workers = 4\n",
    ")\n",
    "\n",
    "test_data_loader = DataLoader(\n",
    "    dataset = test_dataset,\n",
    "    batch_size = 16,\n",
    "    sampler = test_random_sampler,\n",
    "    num_workers = 4\n",
    ")"
   ]
  },
  {
   "cell_type": "code",
   "execution_count": null,
   "id": "bc1b2ca8-cf5d-4e2a-9dba-21f4d1dcf0aa",
   "metadata": {},
   "outputs": [
    {
     "name": "stderr",
     "output_type": "stream",
     "text": [
      "Traceback (most recent call last):\n",
      "  File \"<string>\", line 1, in <module>\n",
      "  File \"/Users/raywang/opt/anaconda3/lib/python3.9/multiprocessing/spawn.py\", line 116, in spawn_main\n",
      "    exitcode = _main(fd, parent_sentinel)\n",
      "  File \"/Users/raywang/opt/anaconda3/lib/python3.9/multiprocessing/spawn.py\", line 126, in _main\n",
      "    self = reduction.pickle.load(from_parent)\n",
      "AttributeError: Can't get attribute 'BirdDataset' on <module '__main__' (built-in)>\n"
     ]
    }
   ],
   "source": [
    "for images, labels in train_data_loader:\n",
    "    fig, ax = plt.subplots(figsize = (10, 10))\n",
    "    ax.set_xticks([])\n",
    "    ax.set_yticks([])\n",
    "    ax.imshow(make_grid(images, 4).permute(1,2,0))\n",
    "    break"
   ]
  },
  {
   "cell_type": "code",
   "execution_count": null,
   "id": "6c29fba0-780c-4ee0-9b90-0d11ca9b6a51",
   "metadata": {},
   "outputs": [],
   "source": []
  }
 ],
 "metadata": {
  "kernelspec": {
   "display_name": "Python 3 (ipykernel)",
   "language": "python",
   "name": "python3"
  },
  "language_info": {
   "codemirror_mode": {
    "name": "ipython",
    "version": 3
   },
   "file_extension": ".py",
   "mimetype": "text/x-python",
   "name": "python",
   "nbconvert_exporter": "python",
   "pygments_lexer": "ipython3",
   "version": "3.9.12"
  }
 },
 "nbformat": 4,
 "nbformat_minor": 5
}
